{
 "cells": [
  {
   "cell_type": "code",
   "execution_count": 22,
   "id": "6c76b187",
   "metadata": {},
   "outputs": [],
   "source": [
    "import tensorflow as tf"
   ]
  },
  {
   "cell_type": "code",
   "execution_count": 15,
   "id": "d86031f8",
   "metadata": {},
   "outputs": [],
   "source": [
    "model = tf.keras.models.load_model(\"/Users/dhruv/Desktop/butterfly_class/butterfly_v1.keras\")"
   ]
  },
  {
   "cell_type": "code",
   "execution_count": 16,
   "id": "84074abb",
   "metadata": {},
   "outputs": [],
   "source": [
    "from PIL import Image\n",
    "\n",
    "# image = Image.open(\"/Users/dhruv/Desktop/butterfly_class/butterfly/data/train/animal butterfly an 88/0XSEFEW9IRUZ.jpg\")\n",
    "\n",
    "image = Image.open(\"butterfly/data/test/animal butterfly grey hairstreak/3HZRQ5MK0SZL.jpg\")"
   ]
  },
  {
   "cell_type": "code",
   "execution_count": 17,
   "id": "f21aa922",
   "metadata": {},
   "outputs": [],
   "source": [
    "import numpy as np\n",
    "image_numpy = np.array(image)"
   ]
  },
  {
   "cell_type": "code",
   "execution_count": 18,
   "id": "3e8a37b5",
   "metadata": {},
   "outputs": [
    {
     "name": "stdout",
     "output_type": "stream",
     "text": [
      "\u001b[1m1/1\u001b[0m \u001b[32m━━━━━━━━━━━━━━━━━━━━\u001b[0m\u001b[37m\u001b[0m \u001b[1m0s\u001b[0m 98ms/step\n"
     ]
    }
   ],
   "source": [
    "pred = model.predict(np.expand_dims(image_numpy, axis=0))"
   ]
  },
  {
   "cell_type": "code",
   "execution_count": 19,
   "id": "228877ff",
   "metadata": {},
   "outputs": [
    {
     "data": {
      "text/plain": [
       "np.int64(33)"
      ]
     },
     "execution_count": 19,
     "metadata": {},
     "output_type": "execute_result"
    }
   ],
   "source": [
    "argmax = np.argmax(pred)\n",
    "argmax"
   ]
  },
  {
   "cell_type": "code",
   "execution_count": 20,
   "id": "d9fc1ae8",
   "metadata": {},
   "outputs": [],
   "source": [
    "list = butterflies = [\n",
    "    \"animal butterfly adonis\",\n",
    "    \"animal butterfly american snoot\",\n",
    "    \"animal butterfly an 88\",\n",
    "    \"animal butterfly banded_butterfly peacock_butterfly\",\n",
    "    \"animal butterfly beckers white\",\n",
    "    \"animal butterfly black hairstreak\",\n",
    "    \"animal butterfly cabbage_butterfly white\",\n",
    "    \"animal butterfly chestnut\",\n",
    "    \"animal butterfly clodius parnassian\",\n",
    "    \"animal butterfly clouded sulphur\",\n",
    "    \"animal butterfly copper tail\",\n",
    "    \"animal butterfly crecent\",\n",
    "    \"animal butterfly crimson patch\",\n",
    "    \"animal butterfly eastern coma\",\n",
    "    \"animal butterfly gold banded_butterfly\",\n",
    "    \"animal butterfly great eggfly\",\n",
    "    \"animal butterfly grey hairstreak\",\n",
    "    \"animal butterfly indra swallow\",\n",
    "    \"animal butterfly julia\",\n",
    "    \"animal butterfly large marble\",\n",
    "    \"animal butterfly malachite\",\n",
    "    \"animal butterfly mangrove skipper\",\n",
    "    \"animal butterfly metalmark\",\n",
    "    \"animal butterfly monarch\",\n",
    "    \"animal butterfly morning cloak\",\n",
    "    \"animal butterfly orange_butterfly oakleaf\",\n",
    "    \"animal butterfly orange_butterfly tip\",\n",
    "    \"animal butterfly orchard swallow\",\n",
    "    \"animal butterfly painted_butterfly lady\",\n",
    "    \"animal butterfly paper kite\",\n",
    "    \"animal butterfly peacock_butterfly\",\n",
    "    \"animal butterfly pine white\",\n",
    "    \"animal butterfly pipevine swallow\",\n",
    "    \"animal butterfly purple hairstreak\",\n",
    "    \"animal butterfly question mark_butterfly\",\n",
    "    \"animal butterfly red admiral\",\n",
    "    \"animal butterfly red spotted purple\",\n",
    "    \"animal butterfly scarce swallow\",\n",
    "    \"animal butterfly silver spot skipper\",\n",
    "    \"animal butterfly sixspot burnet\",\n",
    "    \"animal butterfly skipper\",\n",
    "    \"animal butterfly sootywing\",\n",
    "    \"animal butterfly southern dogface\",\n",
    "    \"animal butterfly straited queen\",\n",
    "    \"animal butterfly two barred flasher\",\n",
    "    \"animal butterfly ulyses\",\n",
    "    \"animal butterfly viceroy\",\n",
    "    \"animal butterfly wood satyr\",\n",
    "    \"animal butterfly yellow swallow tail\",\n",
    "    \"animal butterfly zebra_butterfly long wing\"\n",
    "]"
   ]
  },
  {
   "cell_type": "code",
   "execution_count": 21,
   "id": "33576de1",
   "metadata": {},
   "outputs": [
    {
     "name": "stdout",
     "output_type": "stream",
     "text": [
      "animal butterfly purple hairstreak\n"
     ]
    }
   ],
   "source": [
    "print(list[argmax])"
   ]
  }
 ],
 "metadata": {
  "kernelspec": {
   "display_name": ".venv_butterfly",
   "language": "python",
   "name": "python3"
  },
  "language_info": {
   "codemirror_mode": {
    "name": "ipython",
    "version": 3
   },
   "file_extension": ".py",
   "mimetype": "text/x-python",
   "name": "python",
   "nbconvert_exporter": "python",
   "pygments_lexer": "ipython3",
   "version": "3.10.17"
  }
 },
 "nbformat": 4,
 "nbformat_minor": 5
}
